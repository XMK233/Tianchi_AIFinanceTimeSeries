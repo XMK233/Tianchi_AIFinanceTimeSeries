{
 "cells": [
  {
   "cell_type": "code",
   "execution_count": 1,
   "id": "1a4477f4-41d8-4600-9895-3b5030c138aa",
   "metadata": {},
   "outputs": [
    {
     "name": "stdout",
     "output_type": "stream",
     "text": [
      "storage dir: /Users/minkexiu/Downloads/GitHub/Tianchi_AIFinanceTimeSeries\n",
      "code dir: /Users/minkexiu/Documents/GitHub/Tianchi_AIFinanceTimeSeries \n",
      "\n",
      "20 22 59\n",
      "先天八卦数: 1乾, 2兑, 3离, 4震, 5巽, 6坎, 7艮, 8坤\n",
      "本卦上：4 本卦下：6 变爻：5\n"
     ]
    },
    {
     "data": {
      "text/html": [
       "<div>\n",
       "<style scoped>\n",
       "    .dataframe tbody tr th:only-of-type {\n",
       "        vertical-align: middle;\n",
       "    }\n",
       "\n",
       "    .dataframe tbody tr th {\n",
       "        vertical-align: top;\n",
       "    }\n",
       "\n",
       "    .dataframe thead th {\n",
       "        text-align: right;\n",
       "    }\n",
       "</style>\n",
       "<table border=\"1\" class=\"dataframe\">\n",
       "  <thead>\n",
       "    <tr style=\"text-align: right;\">\n",
       "      <th></th>\n",
       "      <th>雷水解</th>\n",
       "      <th>水火既济</th>\n",
       "      <th>泽水困</th>\n",
       "    </tr>\n",
       "  </thead>\n",
       "  <tbody>\n",
       "    <tr>\n",
       "      <th>上卦</th>\n",
       "      <td>☳震木</td>\n",
       "      <td>☵坎水</td>\n",
       "      <td>☱兑金</td>\n",
       "    </tr>\n",
       "    <tr>\n",
       "      <th>下卦</th>\n",
       "      <td>☵坎水</td>\n",
       "      <td>☲离火</td>\n",
       "      <td>☵坎水</td>\n",
       "    </tr>\n",
       "  </tbody>\n",
       "</table>\n",
       "</div>"
      ],
      "text/plain": [
       "    雷水解 水火既济  泽水困\n",
       "上卦  ☳震木  ☵坎水  ☱兑金\n",
       "下卦  ☵坎水  ☲离火  ☵坎水"
      ]
     },
     "metadata": {},
     "output_type": "display_data"
    },
    {
     "name": "stdout",
     "output_type": "stream",
     "text": [
      "03 23 12 亥时\n",
      "先天八卦数: 1乾, 2兑, 3离, 4震, 5巽, 6坎, 7艮, 8坤\n",
      "本卦上：3 本卦下：7 变爻：6\n"
     ]
    },
    {
     "data": {
      "text/html": [
       "<div>\n",
       "<style scoped>\n",
       "    .dataframe tbody tr th:only-of-type {\n",
       "        vertical-align: middle;\n",
       "    }\n",
       "\n",
       "    .dataframe tbody tr th {\n",
       "        vertical-align: top;\n",
       "    }\n",
       "\n",
       "    .dataframe thead th {\n",
       "        text-align: right;\n",
       "    }\n",
       "</style>\n",
       "<table border=\"1\" class=\"dataframe\">\n",
       "  <thead>\n",
       "    <tr style=\"text-align: right;\">\n",
       "      <th></th>\n",
       "      <th>火山旅</th>\n",
       "      <th>泽风大过</th>\n",
       "      <th>雷山小过</th>\n",
       "    </tr>\n",
       "  </thead>\n",
       "  <tbody>\n",
       "    <tr>\n",
       "      <th>上卦</th>\n",
       "      <td>☲离火</td>\n",
       "      <td>☱兑金</td>\n",
       "      <td>☳震木</td>\n",
       "    </tr>\n",
       "    <tr>\n",
       "      <th>下卦</th>\n",
       "      <td>☶艮土</td>\n",
       "      <td>☴巽木</td>\n",
       "      <td>☶艮土</td>\n",
       "    </tr>\n",
       "  </tbody>\n",
       "</table>\n",
       "</div>"
      ],
      "text/plain": [
       "    火山旅 泽风大过 雷山小过\n",
       "上卦  ☲离火  ☱兑金  ☳震木\n",
       "下卦  ☶艮土  ☴巽木  ☶艮土"
      ]
     },
     "metadata": {},
     "output_type": "display_data"
    }
   ],
   "source": [
    "import sys\n",
    "from kaitoupao import *"
   ]
  },
  {
   "cell_type": "markdown",
   "id": "d93f5bb2-221a-4721-9b46-8540def0401a",
   "metadata": {},
   "source": [
    "# 加载数据"
   ]
  },
  {
   "cell_type": "code",
   "execution_count": 2,
   "id": "6f4bb242-02de-4f6d-a733-695c3d85a7a0",
   "metadata": {},
   "outputs": [
    {
     "name": "stdout",
     "output_type": "stream",
     "text": [
      "pd.read_csv(\"/Users/minkexiu/Downloads/GitHub/Tianchi_AIFinanceTimeSeries/originalData/predict_table.csv\", quoting=3, lineterminator=\"\\n\")\n",
      "pd.read_csv(\"/Users/minkexiu/Downloads/GitHub/Tianchi_AIFinanceTimeSeries/originalData/product_info_simple_final_train.csv\", quoting=3, lineterminator=\"\\n\")\n"
     ]
    }
   ],
   "source": [
    "df_pred = load_data_from_originalData(\"predict_table\")\n",
    "df_train = load_data_from_originalData(\"product_info_simple_final_train\")"
   ]
  },
  {
   "cell_type": "code",
   "execution_count": 14,
   "id": "fe38ede8-ca1a-4009-bd7a-13983d3544ff",
   "metadata": {},
   "outputs": [
    {
     "data": {
      "text/plain": [
       "(20210104, 20221109)"
      ]
     },
     "execution_count": 14,
     "metadata": {},
     "output_type": "execute_result"
    }
   ],
   "source": [
    "df_train.transaction_date.min(), df_train.transaction_date.max()"
   ]
  },
  {
   "cell_type": "code",
   "execution_count": 15,
   "id": "a6e04e21-3e90-4bf8-a336-c2ca824a20dc",
   "metadata": {},
   "outputs": [
    {
     "data": {
      "text/plain": [
       "(20221110, 20221123)"
      ]
     },
     "execution_count": 15,
     "metadata": {},
     "output_type": "execute_result"
    }
   ],
   "source": [
    "df_pred.transaction_date.min(), df_pred.transaction_date.max()"
   ]
  },
  {
   "cell_type": "code",
   "execution_count": null,
   "id": "2c057723-4d0d-4a7a-a55b-06fff3b2fb13",
   "metadata": {},
   "outputs": [],
   "source": []
  },
  {
   "cell_type": "code",
   "execution_count": null,
   "id": "60201223-9602-4fd4-9232-6967c3c1329b",
   "metadata": {},
   "outputs": [],
   "source": []
  },
  {
   "cell_type": "code",
   "execution_count": null,
   "id": "b9f2035e-4a24-4349-9aac-1436638b485a",
   "metadata": {},
   "outputs": [],
   "source": []
  },
  {
   "cell_type": "code",
   "execution_count": 9,
   "id": "199fe10f-5738-4b0d-9a16-518976c1dd21",
   "metadata": {},
   "outputs": [
    {
     "name": "stdout",
     "output_type": "stream",
     "text": [
      "pd.read_csv(\"/Users/minkexiu/Downloads/GitHub/Tianchi_AIFinanceTimeSeries/originalData/cbyieldcurve_info_final.csv\", quoting=3, lineterminator=\"\\n\")\n"
     ]
    },
    {
     "data": {
      "text/plain": [
       "(20201102, 20221109)"
      ]
     },
     "execution_count": 9,
     "metadata": {},
     "output_type": "execute_result"
    }
   ],
   "source": [
    "df_yield = load_data_from_originalData(\"cbyieldcurve_info_final\")\n",
    "df_yield.enddate.min(), df_yield.enddate.max()"
   ]
  },
  {
   "cell_type": "code",
   "execution_count": null,
   "id": "9df7a266-47f0-4f68-8b9b-e002a2c5f28a",
   "metadata": {},
   "outputs": [],
   "source": []
  },
  {
   "cell_type": "code",
   "execution_count": 13,
   "id": "8900e63e-2d6a-41f5-b019-0954a2d618e7",
   "metadata": {},
   "outputs": [
    {
     "name": "stdout",
     "output_type": "stream",
     "text": [
      "pd.read_csv(\"/Users/minkexiu/Downloads/GitHub/Tianchi_AIFinanceTimeSeries/originalData/time_info_final.csv\", quoting=3, lineterminator=\"\\n\")\n"
     ]
    },
    {
     "data": {
      "text/plain": [
       "(20201101, 20221231)"
      ]
     },
     "execution_count": 13,
     "metadata": {},
     "output_type": "execute_result"
    }
   ],
   "source": [
    "df_dt = load_data_from_originalData(\"time_info_final\")\n",
    "# df_dt\n",
    "df_dt.stat_date.min(), df_dt.stat_date.max()"
   ]
  },
  {
   "cell_type": "code",
   "execution_count": null,
   "id": "d26f6b42-f7d2-41f7-9bac-ed3af5e07dd6",
   "metadata": {},
   "outputs": [],
   "source": []
  },
  {
   "cell_type": "code",
   "execution_count": null,
   "id": "8b7d445b-f5bc-401d-84c7-9cb78134d17c",
   "metadata": {},
   "outputs": [],
   "source": []
  },
  {
   "cell_type": "markdown",
   "id": "9337d970-0819-4d4a-a1eb-7f65c395dc29",
   "metadata": {},
   "source": [
    "# 做特征"
   ]
  },
  {
   "cell_type": "code",
   "execution_count": null,
   "id": "ce658fd9-257f-4729-8c03-c9472c4cf2d5",
   "metadata": {},
   "outputs": [],
   "source": []
  },
  {
   "cell_type": "code",
   "execution_count": null,
   "id": "f643a8d5-7df0-461b-97c1-ce33957f6116",
   "metadata": {},
   "outputs": [],
   "source": []
  },
  {
   "cell_type": "code",
   "execution_count": null,
   "id": "b8eb56d4-4ddd-4060-b26d-27fc5f2d7b2f",
   "metadata": {},
   "outputs": [],
   "source": []
  },
  {
   "cell_type": "code",
   "execution_count": null,
   "id": "f8b09c9d-790b-4933-86b5-b5ebd903a6b8",
   "metadata": {},
   "outputs": [],
   "source": []
  },
  {
   "cell_type": "code",
   "execution_count": null,
   "id": "255822fe-b12d-432f-b4c2-b8ca35c2871f",
   "metadata": {},
   "outputs": [],
   "source": []
  },
  {
   "cell_type": "code",
   "execution_count": null,
   "id": "e53cbc12-6079-418f-a389-293be961bab4",
   "metadata": {},
   "outputs": [],
   "source": []
  },
  {
   "cell_type": "code",
   "execution_count": null,
   "id": "9d33f2b8-e273-464a-9f31-c5f6b4d6cd53",
   "metadata": {},
   "outputs": [],
   "source": []
  },
  {
   "cell_type": "markdown",
   "id": "dfa39807-7f66-4da6-9aeb-d62597a541db",
   "metadata": {},
   "source": [
    "# 分数据"
   ]
  },
  {
   "cell_type": "code",
   "execution_count": 3,
   "id": "24171834-78c6-48da-ac99-233f4dbc31da",
   "metadata": {},
   "outputs": [],
   "source": [
    "df_train = df_train[\n",
    "    df_train.product_pid.isin(\n",
    "        df_pred.product_pid.to_list()\n",
    "    )\n",
    "].reset_index(drop=True)"
   ]
  },
  {
   "cell_type": "code",
   "execution_count": null,
   "id": "f33579ef-4a43-4cf4-a8c7-885ae522a81f",
   "metadata": {},
   "outputs": [],
   "source": []
  },
  {
   "cell_type": "code",
   "execution_count": 4,
   "id": "3006d268-74c3-4348-a5b9-b763d5757377",
   "metadata": {},
   "outputs": [],
   "source": [
    "train_test_perc = 0.8"
   ]
  },
  {
   "cell_type": "code",
   "execution_count": 6,
   "id": "16e85d66-c992-460e-bf72-270858464dda",
   "metadata": {},
   "outputs": [],
   "source": [
    "df_train['pid_date_rank'] = df_train.groupby('product_pid')['transaction_date'].rank(ascending=True, method='first').astype(int)\n",
    "df_train['pid_quant'] = df_train.groupby('product_pid')['product_pid'].transform('size')\n",
    "df_train['pid_time_perc'] = df_train['pid_date_rank']/df_train['pid_quant']\n",
    "\n",
    "train_dt, test_dt = df_train[df_train.pid_time_perc<=train_test_perc], df_train[df_train.pid_time_perc>train_test_perc]"
   ]
  },
  {
   "cell_type": "code",
   "execution_count": null,
   "id": "65023dd2-d3b7-43c3-99ee-66eef859cf7a",
   "metadata": {},
   "outputs": [],
   "source": []
  },
  {
   "cell_type": "code",
   "execution_count": null,
   "id": "4cc52ac2-bc97-4c5f-9a44-17649f1873e5",
   "metadata": {},
   "outputs": [],
   "source": []
  },
  {
   "cell_type": "code",
   "execution_count": null,
   "id": "a078824c-d284-435c-a6ef-b9fb4f9ba0d5",
   "metadata": {},
   "outputs": [],
   "source": []
  },
  {
   "cell_type": "code",
   "execution_count": null,
   "id": "0017bf89-0dab-4612-bddd-e0cdd8976701",
   "metadata": {},
   "outputs": [],
   "source": []
  },
  {
   "cell_type": "code",
   "execution_count": null,
   "id": "b69693ca-deff-4344-ac06-983e04ac2e94",
   "metadata": {},
   "outputs": [],
   "source": []
  },
  {
   "cell_type": "code",
   "execution_count": null,
   "id": "10c6d1c0-5a53-4384-b221-a3159e91dba1",
   "metadata": {},
   "outputs": [],
   "source": []
  },
  {
   "cell_type": "code",
   "execution_count": null,
   "id": "12660c72-7026-4417-91c1-d007e463f239",
   "metadata": {},
   "outputs": [],
   "source": []
  }
 ],
 "metadata": {
  "kernelspec": {
   "display_name": "Python 3 (ipykernel)",
   "language": "python",
   "name": "python3"
  },
  "language_info": {
   "codemirror_mode": {
    "name": "ipython",
    "version": 3
   },
   "file_extension": ".py",
   "mimetype": "text/x-python",
   "name": "python",
   "nbconvert_exporter": "python",
   "pygments_lexer": "ipython3",
   "version": "3.12.0"
  }
 },
 "nbformat": 4,
 "nbformat_minor": 5
}
