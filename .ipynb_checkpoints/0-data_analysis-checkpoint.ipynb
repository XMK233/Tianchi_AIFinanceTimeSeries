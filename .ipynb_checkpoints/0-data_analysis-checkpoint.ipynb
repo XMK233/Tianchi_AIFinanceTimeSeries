{
 "cells": [
  {
   "cell_type": "code",
   "execution_count": 1,
   "id": "be177ca1-bfdb-4f18-9649-30e79f4c7c9b",
   "metadata": {},
   "outputs": [
    {
     "name": "stderr",
     "output_type": "stream",
     "text": [
      "/Users/minkexiu/Documents/GitHub/Tianchi_AIFinanceTimeSeries/kaitoupao.py:280: SyntaxWarning: invalid escape sequence '\\d'\n",
      "  *[int(x) for x in re.findall(\"\\d+\", zh_date_str)]\n"
     ]
    },
    {
     "name": "stdout",
     "output_type": "stream",
     "text": [
      "storage dir: /Users/minkexiu/Downloads/GitHub/Tianchi_AIFinanceTimeSeries\n",
      "code dir: /Users/minkexiu/Documents/GitHub/Tianchi_AIFinanceTimeSeries \n",
      "\n",
      "09 16 14\n",
      "先天八卦数: 1乾, 2兑, 3离, 4震, 5巽, 6坎, 7艮, 8坤\n",
      "本卦上：1 本卦下：8 变爻：2\n"
     ]
    },
    {
     "data": {
      "text/html": [
       "<div>\n",
       "<style scoped>\n",
       "    .dataframe tbody tr th:only-of-type {\n",
       "        vertical-align: middle;\n",
       "    }\n",
       "\n",
       "    .dataframe tbody tr th {\n",
       "        vertical-align: top;\n",
       "    }\n",
       "\n",
       "    .dataframe thead th {\n",
       "        text-align: right;\n",
       "    }\n",
       "</style>\n",
       "<table border=\"1\" class=\"dataframe\">\n",
       "  <thead>\n",
       "    <tr style=\"text-align: right;\">\n",
       "      <th></th>\n",
       "      <th>天地否</th>\n",
       "      <th>风山渐</th>\n",
       "      <th>天水松</th>\n",
       "    </tr>\n",
       "  </thead>\n",
       "  <tbody>\n",
       "    <tr>\n",
       "      <th>上卦</th>\n",
       "      <td>☰乾金</td>\n",
       "      <td>☴巽木</td>\n",
       "      <td>☰乾金</td>\n",
       "    </tr>\n",
       "    <tr>\n",
       "      <th>下卦</th>\n",
       "      <td>☷坤土</td>\n",
       "      <td>☶艮土</td>\n",
       "      <td>☵坎水</td>\n",
       "    </tr>\n",
       "  </tbody>\n",
       "</table>\n",
       "</div>"
      ],
      "text/plain": [
       "    天地否  风山渐  天水松\n",
       "上卦  ☰乾金  ☴巽木  ☰乾金\n",
       "下卦  ☷坤土  ☶艮土  ☵坎水"
      ]
     },
     "metadata": {},
     "output_type": "display_data"
    },
    {
     "name": "stdout",
     "output_type": "stream",
     "text": [
      "03 12 9 申时\n",
      "先天八卦数: 1乾, 2兑, 3离, 4震, 5巽, 6坎, 7艮, 8坤\n",
      "本卦上：3 本卦下：4 变爻：3\n"
     ]
    },
    {
     "data": {
      "text/html": [
       "<div>\n",
       "<style scoped>\n",
       "    .dataframe tbody tr th:only-of-type {\n",
       "        vertical-align: middle;\n",
       "    }\n",
       "\n",
       "    .dataframe tbody tr th {\n",
       "        vertical-align: top;\n",
       "    }\n",
       "\n",
       "    .dataframe thead th {\n",
       "        text-align: right;\n",
       "    }\n",
       "</style>\n",
       "<table border=\"1\" class=\"dataframe\">\n",
       "  <thead>\n",
       "    <tr style=\"text-align: right;\">\n",
       "      <th></th>\n",
       "      <th>火雷噬嗑</th>\n",
       "      <th>水山蹇</th>\n",
       "      <th>火火离</th>\n",
       "    </tr>\n",
       "  </thead>\n",
       "  <tbody>\n",
       "    <tr>\n",
       "      <th>上卦</th>\n",
       "      <td>☲离火</td>\n",
       "      <td>☵坎水</td>\n",
       "      <td>☲离火</td>\n",
       "    </tr>\n",
       "    <tr>\n",
       "      <th>下卦</th>\n",
       "      <td>☳震木</td>\n",
       "      <td>☶艮土</td>\n",
       "      <td>☲离火</td>\n",
       "    </tr>\n",
       "  </tbody>\n",
       "</table>\n",
       "</div>"
      ],
      "text/plain": [
       "   火雷噬嗑  水山蹇  火火离\n",
       "上卦  ☲离火  ☵坎水  ☲离火\n",
       "下卦  ☳震木  ☶艮土  ☲离火"
      ]
     },
     "metadata": {},
     "output_type": "display_data"
    }
   ],
   "source": [
    "import sys\n",
    "from kaitoupao import *"
   ]
  },
  {
   "cell_type": "code",
   "execution_count": null,
   "id": "3ec43915-b54f-4899-8712-36c9247af172",
   "metadata": {},
   "outputs": [],
   "source": []
  },
  {
   "cell_type": "markdown",
   "id": "9eae9444-a0f7-491c-995c-4e050330f48e",
   "metadata": {},
   "source": [
    "基础的数据分析。\n",
    "\n",
    "大致设定一些数据分析目标：\n",
    "* 到底有多少个product_id。--》139个。\n",
    "* 每个product_id序列都有多长。--〉最长448，最短也有30+。\n",
    "* 每个product不是有三个数值嘛，看看都是什么样的分布。这个就是有一个直观理解。可能没什么直接的帮助。\n",
    "* 是不是所有的apply_amt和redeem_amt的差都等于net_in_amt。"
   ]
  },
  {
   "cell_type": "code",
   "execution_count": 2,
   "id": "094027e1-6094-49f9-8057-90163d112f02",
   "metadata": {},
   "outputs": [
    {
     "name": "stdout",
     "output_type": "stream",
     "text": [
      "pd.read_csv(\"/Users/minkexiu/Downloads/GitHub/Tianchi_AIFinanceTimeSeries/originalData/predict_table.csv\", quoting=3, lineterminator=\"\\n\")\n",
      "pd.read_csv(\"/Users/minkexiu/Downloads/GitHub/Tianchi_AIFinanceTimeSeries/originalData/product_info_simple_final_train.csv\", quoting=3, lineterminator=\"\\n\")\n"
     ]
    }
   ],
   "source": [
    "df_pred = load_data_from_originalData(\"predict_table\")\n",
    "df_train = load_data_from_originalData(\"product_info_simple_final_train\")"
   ]
  },
  {
   "cell_type": "code",
   "execution_count": 10,
   "id": "9b9b905f-8fa9-4c73-a1e4-f27fb2c05a2d",
   "metadata": {},
   "outputs": [
    {
     "data": {
      "text/plain": [
       "((1390, 5), (43399, 12))"
      ]
     },
     "execution_count": 10,
     "metadata": {},
     "output_type": "execute_result"
    }
   ],
   "source": [
    "df_pred.shape, df_train.shape"
   ]
  },
  {
   "cell_type": "code",
   "execution_count": null,
   "id": "5fb58443-cbfe-405c-a073-a8fc35e662d0",
   "metadata": {},
   "outputs": [],
   "source": []
  },
  {
   "cell_type": "code",
   "execution_count": null,
   "id": "23569ba4-9d3b-446e-b2c7-aadf0eea1706",
   "metadata": {},
   "outputs": [],
   "source": []
  },
  {
   "cell_type": "code",
   "execution_count": 4,
   "id": "30a18789-60a6-4c58-8c55-5429ef99d0f2",
   "metadata": {},
   "outputs": [
    {
     "data": {
      "text/plain": [
       "product_pid\n",
       "product12     448\n",
       "product35     448\n",
       "product49     448\n",
       "product48     448\n",
       "product46     448\n",
       "             ... \n",
       "product69      15\n",
       "product5       10\n",
       "product154      7\n",
       "product74       5\n",
       "product77       4\n",
       "Name: count, Length: 157, dtype: int64"
      ]
     },
     "execution_count": 4,
     "metadata": {},
     "output_type": "execute_result"
    }
   ],
   "source": [
    "df_train.product_pid.value_counts()\n",
    "## 训练数据里的productid，长度参差不齐。"
   ]
  },
  {
   "cell_type": "code",
   "execution_count": 5,
   "id": "ed1fad83-3d79-4404-99aa-f0ab18cacb3b",
   "metadata": {},
   "outputs": [
    {
     "data": {
      "text/plain": [
       "product_pid\n",
       "product1      10\n",
       "product56     10\n",
       "product50     10\n",
       "product51     10\n",
       "product52     10\n",
       "              ..\n",
       "product138    10\n",
       "product137    10\n",
       "product136    10\n",
       "product135    10\n",
       "product99     10\n",
       "Name: count, Length: 139, dtype: int64"
      ]
     },
     "execution_count": 5,
     "metadata": {},
     "output_type": "execute_result"
    }
   ],
   "source": [
    "df_pred.product_pid.value_counts()\n",
    "## 看来所有的pred里面的产品，都只有10个数据。"
   ]
  },
  {
   "cell_type": "code",
   "execution_count": null,
   "id": "61c9ceaf-401c-4456-be49-c51122578c17",
   "metadata": {},
   "outputs": [],
   "source": []
  },
  {
   "cell_type": "code",
   "execution_count": 6,
   "id": "02eae0ed-34a7-44b3-ac00-e002fce2056d",
   "metadata": {},
   "outputs": [
    {
     "data": {
      "text/plain": [
       "set()"
      ]
     },
     "execution_count": 6,
     "metadata": {},
     "output_type": "execute_result"
    }
   ],
   "source": [
    "set(df_pred.product_pid) - set(df_train.product_pid)"
   ]
  },
  {
   "cell_type": "code",
   "execution_count": 7,
   "id": "8a69dd73-0c8f-49a8-ab43-4e4a04e04b2d",
   "metadata": {},
   "outputs": [
    {
     "data": {
      "text/plain": [
       "{'product10',\n",
       " 'product11',\n",
       " 'product127',\n",
       " 'product139',\n",
       " 'product154',\n",
       " 'product18',\n",
       " 'product21',\n",
       " 'product22',\n",
       " 'product23',\n",
       " 'product25',\n",
       " 'product36',\n",
       " 'product4',\n",
       " 'product44',\n",
       " 'product5',\n",
       " 'product69',\n",
       " 'product7',\n",
       " 'product74',\n",
       " 'product77'}"
      ]
     },
     "execution_count": 7,
     "metadata": {},
     "output_type": "execute_result"
    }
   ],
   "source": [
    "set(df_train.product_pid) - set(df_pred.product_pid)"
   ]
  },
  {
   "cell_type": "code",
   "execution_count": 8,
   "id": "050af850-b2a7-49ba-afc0-159a86e9fe6f",
   "metadata": {},
   "outputs": [],
   "source": [
    "## 说明部分的product是没有出现在pred里面的。"
   ]
  },
  {
   "cell_type": "code",
   "execution_count": null,
   "id": "06674685-9d0a-4f6e-8441-77da7ca77266",
   "metadata": {},
   "outputs": [],
   "source": [
    "## 那我们继续看看，出现在数据里面的product都有啥。"
   ]
  },
  {
   "cell_type": "code",
   "execution_count": 11,
   "id": "a2ebc1df-6855-47a8-9aa6-f5db1665a47e",
   "metadata": {},
   "outputs": [],
   "source": [
    "df_train = df_train[\n",
    "    df_train.product_pid.isin(\n",
    "        df_pred.product_pid.to_list()\n",
    "    )\n",
    "].reset_index(drop=True)"
   ]
  },
  {
   "cell_type": "code",
   "execution_count": 13,
   "id": "5d71df5b-7a50-4572-97bf-140e22907b42",
   "metadata": {},
   "outputs": [
    {
     "data": {
      "text/plain": [
       "product_pid\n",
       "product29     448\n",
       "product37     448\n",
       "product15     448\n",
       "product49     448\n",
       "product48     448\n",
       "             ... \n",
       "product156     86\n",
       "product157     84\n",
       "product151     72\n",
       "product152     38\n",
       "product121     31\n",
       "Name: count, Length: 139, dtype: int64"
      ]
     },
     "execution_count": 13,
     "metadata": {},
     "output_type": "execute_result"
    }
   ],
   "source": [
    "df_train.product_pid.value_counts()\n",
    "## 说明，最少的序列长度都有31. \n",
    "## 最长的有448.\n",
    "## 应该是够预测了的。"
   ]
  },
  {
   "cell_type": "code",
   "execution_count": null,
   "id": "6c52c6e3-874e-4206-8198-3ba1c4722f3c",
   "metadata": {},
   "outputs": [],
   "source": []
  },
  {
   "cell_type": "code",
   "execution_count": 22,
   "id": "fddd2fa7-4ce0-44ef-b6bb-3102311870be",
   "metadata": {},
   "outputs": [
    {
     "data": {
      "text/plain": [
       "(42848, 42848)"
      ]
     },
     "execution_count": 22,
     "metadata": {},
     "output_type": "execute_result"
    }
   ],
   "source": [
    "(\n",
    "    (df_train[\"apply_amt\"] - df_train[\"redeem_amt\"]) - (df_train[\"net_in_amt\"]) < 1e-6\n",
    ").sum(), df_train.shape[0]\n",
    "## 靠背哦，其实说白了，apply_amt跟redeem_amt之间的差就是net_in_amt。误差很小的，基本就不要管它了罢。"
   ]
  },
  {
   "cell_type": "code",
   "execution_count": 17,
   "id": "01d505af-e616-44b6-8498-4cead4fa875c",
   "metadata": {},
   "outputs": [],
   "source": [
    "## 看来就是不完全一样的。\n",
    "## 【TODO】回头我们应该看看，这里不同的，都是什么原因导致的。怎么会是这种情况呢。。。"
   ]
  },
  {
   "cell_type": "code",
   "execution_count": 18,
   "id": "8fc2d250-28c2-4a6b-bd71-c332c34b768c",
   "metadata": {},
   "outputs": [
    {
     "data": {
      "text/html": [
       "<div>\n",
       "<style scoped>\n",
       "    .dataframe tbody tr th:only-of-type {\n",
       "        vertical-align: middle;\n",
       "    }\n",
       "\n",
       "    .dataframe tbody tr th {\n",
       "        vertical-align: top;\n",
       "    }\n",
       "\n",
       "    .dataframe thead th {\n",
       "        text-align: right;\n",
       "    }\n",
       "</style>\n",
       "<table border=\"1\" class=\"dataframe\">\n",
       "  <thead>\n",
       "    <tr style=\"text-align: right;\">\n",
       "      <th></th>\n",
       "      <th>product_pid</th>\n",
       "      <th>transaction_date</th>\n",
       "      <th>apply_amt</th>\n",
       "      <th>redeem_amt</th>\n",
       "      <th>net_in_amt</th>\n",
       "      <th>uv_fundown</th>\n",
       "      <th>uv_stableown</th>\n",
       "      <th>uv_fundopt</th>\n",
       "      <th>uv_fundmarket</th>\n",
       "      <th>uv_termmarket</th>\n",
       "      <th>during_days</th>\n",
       "      <th>total_net_value</th>\n",
       "    </tr>\n",
       "  </thead>\n",
       "  <tbody>\n",
       "    <tr>\n",
       "      <th>0</th>\n",
       "      <td>product1</td>\n",
       "      <td>20210104</td>\n",
       "      <td>0.001642</td>\n",
       "      <td>0.000851</td>\n",
       "      <td>0.000791</td>\n",
       "      <td>7.918270e+05</td>\n",
       "      <td>0.0</td>\n",
       "      <td>8203723.0</td>\n",
       "      <td>0.0</td>\n",
       "      <td>0.0</td>\n",
       "      <td>0.0</td>\n",
       "      <td>NaN</td>\n",
       "    </tr>\n",
       "    <tr>\n",
       "      <th>2</th>\n",
       "      <td>product1</td>\n",
       "      <td>20210106</td>\n",
       "      <td>0.002941</td>\n",
       "      <td>0.001342</td>\n",
       "      <td>0.001599</td>\n",
       "      <td>7.590310e+05</td>\n",
       "      <td>0.0</td>\n",
       "      <td>6924679.0</td>\n",
       "      <td>0.0</td>\n",
       "      <td>0.0</td>\n",
       "      <td>0.0</td>\n",
       "      <td>NaN</td>\n",
       "    </tr>\n",
       "    <tr>\n",
       "      <th>8</th>\n",
       "      <td>product1</td>\n",
       "      <td>20210114</td>\n",
       "      <td>0.000102</td>\n",
       "      <td>0.000339</td>\n",
       "      <td>-0.000237</td>\n",
       "      <td>4.310710e+05</td>\n",
       "      <td>0.0</td>\n",
       "      <td>2562811.0</td>\n",
       "      <td>37519.0</td>\n",
       "      <td>0.0</td>\n",
       "      <td>0.0</td>\n",
       "      <td>NaN</td>\n",
       "    </tr>\n",
       "    <tr>\n",
       "      <th>12</th>\n",
       "      <td>product1</td>\n",
       "      <td>20210120</td>\n",
       "      <td>0.004303</td>\n",
       "      <td>0.010718</td>\n",
       "      <td>-0.006416</td>\n",
       "      <td>5.950510e+05</td>\n",
       "      <td>0.0</td>\n",
       "      <td>5711227.0</td>\n",
       "      <td>0.0</td>\n",
       "      <td>0.0</td>\n",
       "      <td>0.0</td>\n",
       "      <td>NaN</td>\n",
       "    </tr>\n",
       "    <tr>\n",
       "      <th>13</th>\n",
       "      <td>product1</td>\n",
       "      <td>20210121</td>\n",
       "      <td>0.000119</td>\n",
       "      <td>0.000312</td>\n",
       "      <td>-0.000193</td>\n",
       "      <td>2.014990e+05</td>\n",
       "      <td>0.0</td>\n",
       "      <td>1972483.0</td>\n",
       "      <td>0.0</td>\n",
       "      <td>0.0</td>\n",
       "      <td>0.0</td>\n",
       "      <td>NaN</td>\n",
       "    </tr>\n",
       "    <tr>\n",
       "      <th>...</th>\n",
       "      <td>...</td>\n",
       "      <td>...</td>\n",
       "      <td>...</td>\n",
       "      <td>...</td>\n",
       "      <td>...</td>\n",
       "      <td>...</td>\n",
       "      <td>...</td>\n",
       "      <td>...</td>\n",
       "      <td>...</td>\n",
       "      <td>...</td>\n",
       "      <td>...</td>\n",
       "      <td>...</td>\n",
       "    </tr>\n",
       "    <tr>\n",
       "      <th>42840</th>\n",
       "      <td>product99</td>\n",
       "      <td>20221031</td>\n",
       "      <td>11.465688</td>\n",
       "      <td>12.210197</td>\n",
       "      <td>-0.744509</td>\n",
       "      <td>1.637050e+09</td>\n",
       "      <td>713481703.0</td>\n",
       "      <td>423302695.0</td>\n",
       "      <td>4956919.0</td>\n",
       "      <td>591316603.0</td>\n",
       "      <td>90.0</td>\n",
       "      <td>4.354314</td>\n",
       "    </tr>\n",
       "    <tr>\n",
       "      <th>42841</th>\n",
       "      <td>product99</td>\n",
       "      <td>20221101</td>\n",
       "      <td>4.002042</td>\n",
       "      <td>12.474778</td>\n",
       "      <td>-8.472736</td>\n",
       "      <td>1.155933e+09</td>\n",
       "      <td>416251555.0</td>\n",
       "      <td>388637323.0</td>\n",
       "      <td>1677319.0</td>\n",
       "      <td>319109803.0</td>\n",
       "      <td>90.0</td>\n",
       "      <td>4.353897</td>\n",
       "    </tr>\n",
       "    <tr>\n",
       "      <th>42842</th>\n",
       "      <td>product99</td>\n",
       "      <td>20221102</td>\n",
       "      <td>6.106381</td>\n",
       "      <td>6.216262</td>\n",
       "      <td>-0.109881</td>\n",
       "      <td>1.493108e+09</td>\n",
       "      <td>455311591.0</td>\n",
       "      <td>493158175.0</td>\n",
       "      <td>1775707.0</td>\n",
       "      <td>361810195.0</td>\n",
       "      <td>90.0</td>\n",
       "      <td>4.354314</td>\n",
       "    </tr>\n",
       "    <tr>\n",
       "      <th>42843</th>\n",
       "      <td>product99</td>\n",
       "      <td>20221103</td>\n",
       "      <td>6.420888</td>\n",
       "      <td>7.034544</td>\n",
       "      <td>-0.613657</td>\n",
       "      <td>1.343788e+09</td>\n",
       "      <td>428517259.0</td>\n",
       "      <td>448850779.0</td>\n",
       "      <td>1349359.0</td>\n",
       "      <td>363745159.0</td>\n",
       "      <td>90.0</td>\n",
       "      <td>4.354314</td>\n",
       "    </tr>\n",
       "    <tr>\n",
       "      <th>42845</th>\n",
       "      <td>product99</td>\n",
       "      <td>20221107</td>\n",
       "      <td>1.967026</td>\n",
       "      <td>21.100487</td>\n",
       "      <td>-19.133461</td>\n",
       "      <td>2.121512e+09</td>\n",
       "      <td>780975871.0</td>\n",
       "      <td>584462239.0</td>\n",
       "      <td>2267647.0</td>\n",
       "      <td>97441639.0</td>\n",
       "      <td>90.0</td>\n",
       "      <td>4.353897</td>\n",
       "    </tr>\n",
       "  </tbody>\n",
       "</table>\n",
       "<p>22790 rows × 12 columns</p>\n",
       "</div>"
      ],
      "text/plain": [
       "      product_pid  transaction_date  apply_amt  redeem_amt  net_in_amt  \\\n",
       "0        product1          20210104   0.001642    0.000851    0.000791   \n",
       "2        product1          20210106   0.002941    0.001342    0.001599   \n",
       "8        product1          20210114   0.000102    0.000339   -0.000237   \n",
       "12       product1          20210120   0.004303    0.010718   -0.006416   \n",
       "13       product1          20210121   0.000119    0.000312   -0.000193   \n",
       "...           ...               ...        ...         ...         ...   \n",
       "42840   product99          20221031  11.465688   12.210197   -0.744509   \n",
       "42841   product99          20221101   4.002042   12.474778   -8.472736   \n",
       "42842   product99          20221102   6.106381    6.216262   -0.109881   \n",
       "42843   product99          20221103   6.420888    7.034544   -0.613657   \n",
       "42845   product99          20221107   1.967026   21.100487  -19.133461   \n",
       "\n",
       "         uv_fundown  uv_stableown   uv_fundopt  uv_fundmarket  uv_termmarket  \\\n",
       "0      7.918270e+05           0.0    8203723.0            0.0            0.0   \n",
       "2      7.590310e+05           0.0    6924679.0            0.0            0.0   \n",
       "8      4.310710e+05           0.0    2562811.0        37519.0            0.0   \n",
       "12     5.950510e+05           0.0    5711227.0            0.0            0.0   \n",
       "13     2.014990e+05           0.0    1972483.0            0.0            0.0   \n",
       "...             ...           ...          ...            ...            ...   \n",
       "42840  1.637050e+09   713481703.0  423302695.0      4956919.0    591316603.0   \n",
       "42841  1.155933e+09   416251555.0  388637323.0      1677319.0    319109803.0   \n",
       "42842  1.493108e+09   455311591.0  493158175.0      1775707.0    361810195.0   \n",
       "42843  1.343788e+09   428517259.0  448850779.0      1349359.0    363745159.0   \n",
       "42845  2.121512e+09   780975871.0  584462239.0      2267647.0     97441639.0   \n",
       "\n",
       "       during_days  total_net_value  \n",
       "0              0.0              NaN  \n",
       "2              0.0              NaN  \n",
       "8              0.0              NaN  \n",
       "12             0.0              NaN  \n",
       "13             0.0              NaN  \n",
       "...            ...              ...  \n",
       "42840         90.0         4.354314  \n",
       "42841         90.0         4.353897  \n",
       "42842         90.0         4.354314  \n",
       "42843         90.0         4.354314  \n",
       "42845         90.0         4.353897  \n",
       "\n",
       "[22790 rows x 12 columns]"
      ]
     },
     "execution_count": 18,
     "metadata": {},
     "output_type": "execute_result"
    }
   ],
   "source": [
    "df_train[\n",
    "    (df_train[\"apply_amt\"] - df_train[\"redeem_amt\"]) (df_train[\"net_in_amt\"])\n",
    "]"
   ]
  },
  {
   "cell_type": "code",
   "execution_count": 21,
   "id": "b65ba23a-02de-4e4b-8704-f8b85f210429",
   "metadata": {},
   "outputs": [
    {
     "data": {
      "text/plain": [
       "-19.133461"
      ]
     },
     "execution_count": 21,
     "metadata": {},
     "output_type": "execute_result"
    }
   ],
   "source": [
    "1.967026 - 21.100487"
   ]
  },
  {
   "cell_type": "code",
   "execution_count": null,
   "id": "51068c7f-dcbd-4e2f-8e9c-17a4fc2908c9",
   "metadata": {},
   "outputs": [],
   "source": []
  },
  {
   "cell_type": "code",
   "execution_count": null,
   "id": "831893af-92c2-45c4-8bb8-90eb1be87c24",
   "metadata": {},
   "outputs": [],
   "source": []
  },
  {
   "cell_type": "code",
   "execution_count": null,
   "id": "2be01f0f-d187-4519-8479-079c9aad5e60",
   "metadata": {},
   "outputs": [],
   "source": []
  }
 ],
 "metadata": {
  "kernelspec": {
   "display_name": "Python 3 (ipykernel)",
   "language": "python",
   "name": "python3"
  },
  "language_info": {
   "codemirror_mode": {
    "name": "ipython",
    "version": 3
   },
   "file_extension": ".py",
   "mimetype": "text/x-python",
   "name": "python",
   "nbconvert_exporter": "python",
   "pygments_lexer": "ipython3",
   "version": "3.12.0"
  }
 },
 "nbformat": 4,
 "nbformat_minor": 5
}
